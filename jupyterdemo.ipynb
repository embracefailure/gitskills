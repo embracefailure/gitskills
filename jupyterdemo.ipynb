{
 "cells": [
  {
   "cell_type": "code",
   "execution_count": 2,
   "metadata": {},
   "outputs": [
    {
     "name": "stdout",
     "output_type": "stream",
     "text": [
      "This is a demo for creating an ipynb document and pushing it to Github, under the repository named gitskills.\n"
     ]
    }
   ],
   "source": [
    "print(\"This is a demo for creating an ipynb document and pushing it to Github, under the repository named gitskills.\")\n"
   ]
  },
  {
   "attachments": {},
   "cell_type": "markdown",
   "metadata": {},
   "source": [
    "### gitskills is a repository aimed at practicing cloning and pushing from and to Github. "
   ]
  }
 ],
 "metadata": {
  "kernelspec": {
   "display_name": "Python 3",
   "language": "python",
   "name": "python3"
  },
  "language_info": {
   "codemirror_mode": {
    "name": "ipython",
    "version": 3
   },
   "file_extension": ".py",
   "mimetype": "text/x-python",
   "name": "python",
   "nbconvert_exporter": "python",
   "pygments_lexer": "ipython3",
   "version": "3.11.1"
  },
  "orig_nbformat": 4,
  "vscode": {
   "interpreter": {
    "hash": "daf1433f2f843264592e1fe6c5b42ec921a62aaef0fd8f3fa2ab68d085c2387c"
   }
  }
 },
 "nbformat": 4,
 "nbformat_minor": 2
}
